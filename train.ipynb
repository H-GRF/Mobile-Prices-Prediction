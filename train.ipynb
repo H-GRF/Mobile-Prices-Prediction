{
 "cells": [
  {
   "cell_type": "markdown",
   "id": "24c12d2e",
   "metadata": {},
   "source": [
    "# Import libraries"
   ]
  },
  {
   "cell_type": "code",
   "execution_count": 1,
   "id": "dbd277df",
   "metadata": {},
   "outputs": [
    {
     "ename": "ModuleNotFoundError",
     "evalue": "No module named 'seaborn'",
     "output_type": "error",
     "traceback": [
      "\u001b[0;31m---------------------------------------------------------------------------\u001b[0m",
      "\u001b[0;31mModuleNotFoundError\u001b[0m                       Traceback (most recent call last)",
      "Cell \u001b[0;32mIn[1], line 3\u001b[0m\n\u001b[1;32m      1\u001b[0m \u001b[39mimport\u001b[39;00m \u001b[39mnumpy\u001b[39;00m \u001b[39mas\u001b[39;00m \u001b[39mnp\u001b[39;00m\n\u001b[1;32m      2\u001b[0m \u001b[39mimport\u001b[39;00m \u001b[39mpandas\u001b[39;00m \u001b[39mas\u001b[39;00m \u001b[39mpd\u001b[39;00m\n\u001b[0;32m----> 3\u001b[0m \u001b[39mimport\u001b[39;00m \u001b[39mseaborn\u001b[39;00m \u001b[39mas\u001b[39;00m \u001b[39msns\u001b[39;00m\n\u001b[1;32m      4\u001b[0m \u001b[39mimport\u001b[39;00m \u001b[39mmatplotlib\u001b[39;00m\u001b[39m.\u001b[39;00m\u001b[39mpyplot\u001b[39;00m \u001b[39mas\u001b[39;00m \u001b[39mplt\u001b[39;00m\n\u001b[1;32m      6\u001b[0m \u001b[39mfrom\u001b[39;00m \u001b[39msklearn\u001b[39;00m\u001b[39m.\u001b[39;00m\u001b[39mlinear_model\u001b[39;00m \u001b[39mimport\u001b[39;00m LinearRegression \n",
      "\u001b[0;31mModuleNotFoundError\u001b[0m: No module named 'seaborn'"
     ]
    }
   ],
   "source": [
    "import numpy as np\n",
    "import pandas as pd\n",
    "import seaborn as sns\n",
    "import matplotlib.pyplot as plt\n",
    "\n",
    "from sklearn.linear_model import LinearRegression \n",
    "from xgboost import XGBRegressor\n",
    "from sklearn.ensemble import AdaBoostRegressor\n",
    "from sklearn.preprocessing import MinMaxScaler\n",
    "from sklearn.feature_extraction import DictVectorizer\n",
    "from sklearn.model_selection import train_test_split\n",
    "from sklearn.metrics import mean_absolute_error\n",
    "\n",
    "import pickle\n"
   ]
  },
  {
   "cell_type": "markdown",
   "id": "db866289",
   "metadata": {},
   "source": [
    "# Load and describe data\n"
   ]
  },
  {
   "cell_type": "code",
   "execution_count": 2,
   "id": "a476358c",
   "metadata": {},
   "outputs": [
    {
     "data": {
      "text/html": [
       "<div>\n",
       "<style scoped>\n",
       "    .dataframe tbody tr th:only-of-type {\n",
       "        vertical-align: middle;\n",
       "    }\n",
       "\n",
       "    .dataframe tbody tr th {\n",
       "        vertical-align: top;\n",
       "    }\n",
       "\n",
       "    .dataframe thead th {\n",
       "        text-align: right;\n",
       "    }\n",
       "</style>\n",
       "<table border=\"1\" class=\"dataframe\">\n",
       "  <thead>\n",
       "    <tr style=\"text-align: right;\">\n",
       "      <th></th>\n",
       "      <th>Phone Name</th>\n",
       "      <th>Rating ?/5</th>\n",
       "      <th>Number of Ratings</th>\n",
       "      <th>RAM</th>\n",
       "      <th>ROM/Storage</th>\n",
       "      <th>Back/Rare Camera</th>\n",
       "      <th>Front Camera</th>\n",
       "      <th>Battery</th>\n",
       "      <th>Processor</th>\n",
       "      <th>Price in INR</th>\n",
       "      <th>Date of Scraping</th>\n",
       "    </tr>\n",
       "  </thead>\n",
       "  <tbody>\n",
       "    <tr>\n",
       "      <th>0</th>\n",
       "      <td>POCO C50 (Royal Blue, 32 GB)</td>\n",
       "      <td>4.2</td>\n",
       "      <td>33,561</td>\n",
       "      <td>2 GB RAM</td>\n",
       "      <td>32 GB ROM</td>\n",
       "      <td>8MP Dual Camera</td>\n",
       "      <td>5MP Front Camera</td>\n",
       "      <td>5000 mAh</td>\n",
       "      <td>Mediatek Helio A22 Processor, Upto 2.0 GHz Pro...</td>\n",
       "      <td>₹5,649</td>\n",
       "      <td>2023-06-17</td>\n",
       "    </tr>\n",
       "    <tr>\n",
       "      <th>1</th>\n",
       "      <td>POCO M4 5G (Cool Blue, 64 GB)</td>\n",
       "      <td>4.2</td>\n",
       "      <td>77,128</td>\n",
       "      <td>4 GB RAM</td>\n",
       "      <td>64 GB ROM</td>\n",
       "      <td>50MP + 2MP</td>\n",
       "      <td>8MP Front Camera</td>\n",
       "      <td>5000 mAh</td>\n",
       "      <td>Mediatek Dimensity 700 Processor</td>\n",
       "      <td>₹11,999</td>\n",
       "      <td>2023-06-17</td>\n",
       "    </tr>\n",
       "    <tr>\n",
       "      <th>2</th>\n",
       "      <td>POCO C51 (Royal Blue, 64 GB)</td>\n",
       "      <td>4.3</td>\n",
       "      <td>15,175</td>\n",
       "      <td>4 GB RAM</td>\n",
       "      <td>64 GB ROM</td>\n",
       "      <td>8MP Dual Rear Camera</td>\n",
       "      <td>5MP Front Camera</td>\n",
       "      <td>5000 mAh</td>\n",
       "      <td>Helio G36 Processor</td>\n",
       "      <td>₹6,999</td>\n",
       "      <td>2023-06-17</td>\n",
       "    </tr>\n",
       "    <tr>\n",
       "      <th>3</th>\n",
       "      <td>POCO C55 (Cool Blue, 64 GB)</td>\n",
       "      <td>4.2</td>\n",
       "      <td>22,621</td>\n",
       "      <td>4 GB RAM</td>\n",
       "      <td>64 GB ROM</td>\n",
       "      <td>50MP Dual Rear Camera</td>\n",
       "      <td>5MP Front Camera</td>\n",
       "      <td>5000 mAh</td>\n",
       "      <td>Mediatek Helio G85 Processor</td>\n",
       "      <td>₹7,749</td>\n",
       "      <td>2023-06-17</td>\n",
       "    </tr>\n",
       "    <tr>\n",
       "      <th>4</th>\n",
       "      <td>POCO C51 (Power Black, 64 GB)</td>\n",
       "      <td>4.3</td>\n",
       "      <td>15,175</td>\n",
       "      <td>4 GB RAM</td>\n",
       "      <td>64 GB ROM</td>\n",
       "      <td>8MP Dual Rear Camera</td>\n",
       "      <td>5MP Front Camera</td>\n",
       "      <td>5000 mAh</td>\n",
       "      <td>Helio G36 Processor</td>\n",
       "      <td>₹6,999</td>\n",
       "      <td>2023-06-17</td>\n",
       "    </tr>\n",
       "    <tr>\n",
       "      <th>...</th>\n",
       "      <td>...</td>\n",
       "      <td>...</td>\n",
       "      <td>...</td>\n",
       "      <td>...</td>\n",
       "      <td>...</td>\n",
       "      <td>...</td>\n",
       "      <td>...</td>\n",
       "      <td>...</td>\n",
       "      <td>...</td>\n",
       "      <td>...</td>\n",
       "      <td>...</td>\n",
       "    </tr>\n",
       "    <tr>\n",
       "      <th>1831</th>\n",
       "      <td>Infinix Note 7 (Forest Green, 64 GB)</td>\n",
       "      <td>4.3</td>\n",
       "      <td>25,582</td>\n",
       "      <td>4 GB RAM</td>\n",
       "      <td>64 GB ROM</td>\n",
       "      <td>48MP + 2MP + 2MP + AI Lens Camera</td>\n",
       "      <td>16MP Front Camera</td>\n",
       "      <td>5000 mAh</td>\n",
       "      <td>MediaTek Helio G70 Processor</td>\n",
       "      <td>₹14,999</td>\n",
       "      <td>2023-06-17</td>\n",
       "    </tr>\n",
       "    <tr>\n",
       "      <th>1832</th>\n",
       "      <td>Infinix Note 7 (Bolivia Blue, 64 GB)</td>\n",
       "      <td>4.3</td>\n",
       "      <td>25,582</td>\n",
       "      <td>4 GB RAM</td>\n",
       "      <td>64 GB ROM</td>\n",
       "      <td>48MP + 2MP + 2MP + AI Lens Camera</td>\n",
       "      <td>16MP Front Camera</td>\n",
       "      <td>5000 mAh</td>\n",
       "      <td>MediaTek Helio G70 Processor</td>\n",
       "      <td>₹14,999</td>\n",
       "      <td>2023-06-17</td>\n",
       "    </tr>\n",
       "    <tr>\n",
       "      <th>1833</th>\n",
       "      <td>Infinix Note 7 (Aether Black, 64 GB)</td>\n",
       "      <td>4.3</td>\n",
       "      <td>25,582</td>\n",
       "      <td>4 GB RAM</td>\n",
       "      <td>64 GB ROM</td>\n",
       "      <td>48MP + 2MP + 2MP + AI Lens Camera</td>\n",
       "      <td>16MP Front Camera</td>\n",
       "      <td>5000 mAh</td>\n",
       "      <td>MediaTek Helio G70 Processor</td>\n",
       "      <td>₹14,999</td>\n",
       "      <td>2023-06-17</td>\n",
       "    </tr>\n",
       "    <tr>\n",
       "      <th>1834</th>\n",
       "      <td>Infinix Zero 8i (Silver Diamond, 128 GB)</td>\n",
       "      <td>4.2</td>\n",
       "      <td>7,117</td>\n",
       "      <td>8 GB RAM</td>\n",
       "      <td>128 GB ROM</td>\n",
       "      <td>48MP + 8MP + 2MP + AI Lens Camera</td>\n",
       "      <td>16MP + 8MP Dual Front Camera</td>\n",
       "      <td>4500 mAh</td>\n",
       "      <td>MediaTek Helio G90T Processor</td>\n",
       "      <td>₹18,999</td>\n",
       "      <td>2023-06-17</td>\n",
       "    </tr>\n",
       "    <tr>\n",
       "      <th>1835</th>\n",
       "      <td>Infinix S5 (Quetzal Cyan, 64 GB)</td>\n",
       "      <td>4.3</td>\n",
       "      <td>15,701</td>\n",
       "      <td>4 GB RAM</td>\n",
       "      <td>64 GB ROM</td>\n",
       "      <td>16MP + 5MP + 2MP + Low Light Sensor</td>\n",
       "      <td>32MP Front Camera</td>\n",
       "      <td>4000 mAh</td>\n",
       "      <td>Helio P22 (MTK6762) Processor</td>\n",
       "      <td>₹10,999</td>\n",
       "      <td>2023-06-17</td>\n",
       "    </tr>\n",
       "  </tbody>\n",
       "</table>\n",
       "<p>1836 rows × 11 columns</p>\n",
       "</div>"
      ],
      "text/plain": [
       "                                    Phone Name  Rating ?/5 Number of Ratings  \\\n",
       "0                 POCO C50 (Royal Blue, 32 GB)         4.2            33,561   \n",
       "1                POCO M4 5G (Cool Blue, 64 GB)         4.2            77,128   \n",
       "2                 POCO C51 (Royal Blue, 64 GB)         4.3            15,175   \n",
       "3                  POCO C55 (Cool Blue, 64 GB)         4.2            22,621   \n",
       "4                POCO C51 (Power Black, 64 GB)         4.3            15,175   \n",
       "...                                        ...         ...               ...   \n",
       "1831      Infinix Note 7 (Forest Green, 64 GB)         4.3            25,582   \n",
       "1832      Infinix Note 7 (Bolivia Blue, 64 GB)         4.3            25,582   \n",
       "1833      Infinix Note 7 (Aether Black, 64 GB)         4.3            25,582   \n",
       "1834  Infinix Zero 8i (Silver Diamond, 128 GB)         4.2             7,117   \n",
       "1835          Infinix S5 (Quetzal Cyan, 64 GB)         4.3            15,701   \n",
       "\n",
       "           RAM ROM/Storage                     Back/Rare Camera  \\\n",
       "0     2 GB RAM   32 GB ROM                      8MP Dual Camera   \n",
       "1     4 GB RAM   64 GB ROM                           50MP + 2MP   \n",
       "2     4 GB RAM   64 GB ROM                 8MP Dual Rear Camera   \n",
       "3     4 GB RAM   64 GB ROM                50MP Dual Rear Camera   \n",
       "4     4 GB RAM   64 GB ROM                 8MP Dual Rear Camera   \n",
       "...        ...         ...                                  ...   \n",
       "1831  4 GB RAM   64 GB ROM    48MP + 2MP + 2MP + AI Lens Camera   \n",
       "1832  4 GB RAM   64 GB ROM    48MP + 2MP + 2MP + AI Lens Camera   \n",
       "1833  4 GB RAM   64 GB ROM    48MP + 2MP + 2MP + AI Lens Camera   \n",
       "1834  8 GB RAM  128 GB ROM    48MP + 8MP + 2MP + AI Lens Camera   \n",
       "1835  4 GB RAM   64 GB ROM  16MP + 5MP + 2MP + Low Light Sensor   \n",
       "\n",
       "                      Front Camera   Battery  \\\n",
       "0                 5MP Front Camera  5000 mAh   \n",
       "1                 8MP Front Camera  5000 mAh   \n",
       "2                 5MP Front Camera  5000 mAh   \n",
       "3                 5MP Front Camera  5000 mAh   \n",
       "4                 5MP Front Camera  5000 mAh   \n",
       "...                            ...       ...   \n",
       "1831             16MP Front Camera  5000 mAh   \n",
       "1832             16MP Front Camera  5000 mAh   \n",
       "1833             16MP Front Camera  5000 mAh   \n",
       "1834  16MP + 8MP Dual Front Camera  4500 mAh   \n",
       "1835             32MP Front Camera  4000 mAh   \n",
       "\n",
       "                                              Processor Price in INR  \\\n",
       "0     Mediatek Helio A22 Processor, Upto 2.0 GHz Pro...       ₹5,649   \n",
       "1                      Mediatek Dimensity 700 Processor      ₹11,999   \n",
       "2                                   Helio G36 Processor       ₹6,999   \n",
       "3                          Mediatek Helio G85 Processor       ₹7,749   \n",
       "4                                   Helio G36 Processor       ₹6,999   \n",
       "...                                                 ...          ...   \n",
       "1831                       MediaTek Helio G70 Processor      ₹14,999   \n",
       "1832                       MediaTek Helio G70 Processor      ₹14,999   \n",
       "1833                       MediaTek Helio G70 Processor      ₹14,999   \n",
       "1834                      MediaTek Helio G90T Processor      ₹18,999   \n",
       "1835                      Helio P22 (MTK6762) Processor      ₹10,999   \n",
       "\n",
       "     Date of Scraping  \n",
       "0          2023-06-17  \n",
       "1          2023-06-17  \n",
       "2          2023-06-17  \n",
       "3          2023-06-17  \n",
       "4          2023-06-17  \n",
       "...               ...  \n",
       "1831       2023-06-17  \n",
       "1832       2023-06-17  \n",
       "1833       2023-06-17  \n",
       "1834       2023-06-17  \n",
       "1835       2023-06-17  \n",
       "\n",
       "[1836 rows x 11 columns]"
      ]
     },
     "execution_count": 2,
     "metadata": {},
     "output_type": "execute_result"
    }
   ],
   "source": [
    "df=pd.read_csv('mobile_prices_regression.csv')\n",
    "df"
   ]
  },
  {
   "cell_type": "code",
   "execution_count": 4,
   "id": "89c1d772",
   "metadata": {},
   "outputs": [
    {
     "data": {
      "text/plain": [
       "(1836, 11)"
      ]
     },
     "execution_count": 4,
     "metadata": {},
     "output_type": "execute_result"
    }
   ],
   "source": [
    "df.shape"
   ]
  },
  {
   "cell_type": "code",
   "execution_count": 5,
   "id": "5d2166b3",
   "metadata": {},
   "outputs": [
    {
     "data": {
      "text/plain": [
       "Phone Name            object\n",
       "Rating ?/5           float64\n",
       "Number of Ratings     object\n",
       "RAM                   object\n",
       "ROM/Storage           object\n",
       "Back/Rare Camera      object\n",
       "Front Camera          object\n",
       "Battery               object\n",
       "Processor             object\n",
       "Price in INR          object\n",
       "Date of Scraping      object\n",
       "dtype: object"
      ]
     },
     "execution_count": 5,
     "metadata": {},
     "output_type": "execute_result"
    }
   ],
   "source": [
    "df.dtypes"
   ]
  },
  {
   "cell_type": "code",
   "execution_count": 6,
   "id": "1460d1d9",
   "metadata": {},
   "outputs": [
    {
     "data": {
      "text/html": [
       "<div>\n",
       "<style scoped>\n",
       "    .dataframe tbody tr th:only-of-type {\n",
       "        vertical-align: middle;\n",
       "    }\n",
       "\n",
       "    .dataframe tbody tr th {\n",
       "        vertical-align: top;\n",
       "    }\n",
       "\n",
       "    .dataframe thead th {\n",
       "        text-align: right;\n",
       "    }\n",
       "</style>\n",
       "<table border=\"1\" class=\"dataframe\">\n",
       "  <thead>\n",
       "    <tr style=\"text-align: right;\">\n",
       "      <th></th>\n",
       "      <th>count</th>\n",
       "      <th>mean</th>\n",
       "      <th>std</th>\n",
       "      <th>min</th>\n",
       "      <th>25%</th>\n",
       "      <th>50%</th>\n",
       "      <th>75%</th>\n",
       "      <th>max</th>\n",
       "    </tr>\n",
       "  </thead>\n",
       "  <tbody>\n",
       "    <tr>\n",
       "      <th>Rating ?/5</th>\n",
       "      <td>1836.0</td>\n",
       "      <td>4.210512</td>\n",
       "      <td>0.543912</td>\n",
       "      <td>0.0</td>\n",
       "      <td>4.2</td>\n",
       "      <td>4.3</td>\n",
       "      <td>4.4</td>\n",
       "      <td>4.8</td>\n",
       "    </tr>\n",
       "  </tbody>\n",
       "</table>\n",
       "</div>"
      ],
      "text/plain": [
       "             count      mean       std  min  25%  50%  75%  max\n",
       "Rating ?/5  1836.0  4.210512  0.543912  0.0  4.2  4.3  4.4  4.8"
      ]
     },
     "execution_count": 6,
     "metadata": {},
     "output_type": "execute_result"
    }
   ],
   "source": [
    "df.describe().T\n"
   ]
  },
  {
   "cell_type": "code",
   "execution_count": 23,
   "id": "eae60bdf",
   "metadata": {},
   "outputs": [
    {
     "data": {
      "text/plain": [
       "phone_name           1507\n",
       "rating_5               22\n",
       "number_of_ratings     717\n",
       "ram                    46\n",
       "rom                    27\n",
       "back_camera           174\n",
       "front_camera           29\n",
       "battery               102\n",
       "processor             332\n",
       "price_DZD             519\n",
       "dtype: int64"
      ]
     },
     "execution_count": 23,
     "metadata": {},
     "output_type": "execute_result"
    }
   ],
   "source": [
    "df.nunique()"
   ]
  },
  {
   "cell_type": "code",
   "execution_count": 7,
   "id": "71b2a3c5",
   "metadata": {},
   "outputs": [
    {
     "name": "stdout",
     "output_type": "stream",
     "text": [
      "<class 'pandas.core.frame.DataFrame'>\n",
      "RangeIndex: 1836 entries, 0 to 1835\n",
      "Data columns (total 11 columns):\n",
      " #   Column             Non-Null Count  Dtype  \n",
      "---  ------             --------------  -----  \n",
      " 0   Phone Name         1836 non-null   object \n",
      " 1   Rating ?/5         1836 non-null   float64\n",
      " 2   Number of Ratings  1836 non-null   object \n",
      " 3   RAM                1836 non-null   object \n",
      " 4   ROM/Storage        1662 non-null   object \n",
      " 5   Back/Rare Camera   1827 non-null   object \n",
      " 6   Front Camera       1435 non-null   object \n",
      " 7   Battery            1826 non-null   object \n",
      " 8   Processor          1781 non-null   object \n",
      " 9   Price in INR       1836 non-null   object \n",
      " 10  Date of Scraping   1836 non-null   object \n",
      "dtypes: float64(1), object(10)\n",
      "memory usage: 157.9+ KB\n"
     ]
    }
   ],
   "source": [
    "df.info()"
   ]
  },
  {
   "cell_type": "markdown",
   "id": "45ffc0ec",
   "metadata": {},
   "source": [
    "# Pre-processing"
   ]
  },
  {
   "cell_type": "code",
   "execution_count": 8,
   "id": "79ae4c10",
   "metadata": {},
   "outputs": [],
   "source": [
    "df.columns=[column.lower().replace(\" \",\"_\") for column in df.columns]"
   ]
  },
  {
   "cell_type": "markdown",
   "id": "30e138eb",
   "metadata": {},
   "source": [
    "# Exploratory Data Analysis (EDA)"
   ]
  },
  {
   "cell_type": "markdown",
   "id": "4151b8ad",
   "metadata": {},
   "source": [
    " i want to convert our target from INR to DZD :\n",
    " \n",
    " Given exchange rate from INR to DZD\n",
    " \n",
    " Function to convert a single price\n",
    "\n",
    " Apply the conversion to the entire column\n"
   ]
  },
  {
   "cell_type": "code",
   "execution_count": 9,
   "id": "2fcc4b67",
   "metadata": {},
   "outputs": [],
   "source": [
    "exchange_rate_inr_to_dzd = 1.44  \n",
    "\n",
    "def convert_to_dzd(price_inr):\n",
    "    price_numeric = float(price_inr.replace('₹', '').replace(',', ''))\n",
    "    price_dzd = price_numeric * exchange_rate_inr_to_dzd\n",
    "    return price_dzd\n",
    "df['price_DZD'] = df['price_in_inr'].apply(convert_to_dzd)\n",
    "\n",
    "df.number_of_ratings=df.number_of_ratings.str.replace(\",\",\"\")\n",
    "df.battery=df.battery.str.replace(\"mAh\",\"\")\n",
    "\n",
    "df.front_camera=df.front_camera.str.replace(\"Front Camera\",\"\").str.replace(\"Dual\",\"\").str.replace(\"MP\",\"\").str.replace(\"20 + 2 \",\"22\").str.replace(\"32 + 8 \",\"40\").str.replace(\"16 + 8 \",\"24\").str.replace(\"32 + 2 \",\"34\").str.replace(\"16 + 2 \",\"18\").str.replace(\"44 + 2 \",\"46\").str.replace(\"8 + 8 \",\"16\").str.replace(\"50 + 8 \",\"58\").str.replace(\"8 + 2 \",\"10\").str.replace(\"13 + 5 \",\"18\") \n"
   ]
  },
  {
   "cell_type": "code",
   "execution_count": 10,
   "id": "afcda514",
   "metadata": {},
   "outputs": [],
   "source": [
    "del df['date_of_scraping']\n",
    "del df['price_in_inr']"
   ]
  },
  {
   "cell_type": "code",
   "execution_count": 12,
   "id": "9e9ac153",
   "metadata": {},
   "outputs": [],
   "source": [
    "columns =['phone_name', 'rating_5', 'number_of_ratings', 'ram', 'rom',\n",
    "       'back_camera', 'front_camera', 'battery', 'processor',\n",
    "       'price_DZD']\n",
    "df.columns=columns\n"
   ]
  },
  {
   "cell_type": "code",
   "execution_count": 13,
   "id": "fb857b8e",
   "metadata": {},
   "outputs": [],
   "source": [
    "df.rom=df.rom.str.replace('ROM','')\n"
   ]
  },
  {
   "cell_type": "markdown",
   "id": "10e4957a",
   "metadata": {},
   "source": [
    "As we see there is some missing values but i prefer deling with them after spliting the data to avoid 'data leackage'"
   ]
  },
  {
   "cell_type": "code",
   "execution_count": 14,
   "id": "84d2f816",
   "metadata": {},
   "outputs": [
    {
     "data": {
      "text/plain": [
       "phone_name             0\n",
       "rating_5               0\n",
       "number_of_ratings      0\n",
       "ram                    0\n",
       "rom                  174\n",
       "back_camera            9\n",
       "front_camera         401\n",
       "battery               10\n",
       "processor             55\n",
       "price_DZD              0\n",
       "dtype: int64"
      ]
     },
     "execution_count": 14,
     "metadata": {},
     "output_type": "execute_result"
    }
   ],
   "source": [
    "df.isna().sum()\n"
   ]
  },
  {
   "cell_type": "code",
   "execution_count": 15,
   "id": "74643857",
   "metadata": {},
   "outputs": [
    {
     "data": {
      "text/html": [
       "<div>\n",
       "<style scoped>\n",
       "    .dataframe tbody tr th:only-of-type {\n",
       "        vertical-align: middle;\n",
       "    }\n",
       "\n",
       "    .dataframe tbody tr th {\n",
       "        vertical-align: top;\n",
       "    }\n",
       "\n",
       "    .dataframe thead th {\n",
       "        text-align: right;\n",
       "    }\n",
       "</style>\n",
       "<table border=\"1\" class=\"dataframe\">\n",
       "  <thead>\n",
       "    <tr style=\"text-align: right;\">\n",
       "      <th></th>\n",
       "      <th>count</th>\n",
       "      <th>mean</th>\n",
       "      <th>std</th>\n",
       "      <th>min</th>\n",
       "      <th>25%</th>\n",
       "      <th>50%</th>\n",
       "      <th>75%</th>\n",
       "      <th>max</th>\n",
       "    </tr>\n",
       "  </thead>\n",
       "  <tbody>\n",
       "    <tr>\n",
       "      <th>rating_5</th>\n",
       "      <td>1836.0</td>\n",
       "      <td>4.210512</td>\n",
       "      <td>0.543912</td>\n",
       "      <td>0.00</td>\n",
       "      <td>4.20</td>\n",
       "      <td>4.30</td>\n",
       "      <td>4.4</td>\n",
       "      <td>4.80</td>\n",
       "    </tr>\n",
       "    <tr>\n",
       "      <th>price_DZD</th>\n",
       "      <td>1836.0</td>\n",
       "      <td>34165.997647</td>\n",
       "      <td>35101.562563</td>\n",
       "      <td>1726.56</td>\n",
       "      <td>14398.56</td>\n",
       "      <td>23038.56</td>\n",
       "      <td>40305.6</td>\n",
       "      <td>244798.56</td>\n",
       "    </tr>\n",
       "  </tbody>\n",
       "</table>\n",
       "</div>"
      ],
      "text/plain": [
       "            count          mean           std      min       25%       50%  \\\n",
       "rating_5   1836.0      4.210512      0.543912     0.00      4.20      4.30   \n",
       "price_DZD  1836.0  34165.997647  35101.562563  1726.56  14398.56  23038.56   \n",
       "\n",
       "               75%        max  \n",
       "rating_5       4.4       4.80  \n",
       "price_DZD  40305.6  244798.56  "
      ]
     },
     "execution_count": 15,
     "metadata": {},
     "output_type": "execute_result"
    }
   ],
   "source": [
    "df.describe().T"
   ]
  },
  {
   "cell_type": "code",
   "execution_count": 15,
   "id": "b50030cf",
   "metadata": {},
   "outputs": [
    {
     "data": {
      "text/html": [
       "<div>\n",
       "<style scoped>\n",
       "    .dataframe tbody tr th:only-of-type {\n",
       "        vertical-align: middle;\n",
       "    }\n",
       "\n",
       "    .dataframe tbody tr th {\n",
       "        vertical-align: top;\n",
       "    }\n",
       "\n",
       "    .dataframe thead th {\n",
       "        text-align: right;\n",
       "    }\n",
       "</style>\n",
       "<table border=\"1\" class=\"dataframe\">\n",
       "  <thead>\n",
       "    <tr style=\"text-align: right;\">\n",
       "      <th></th>\n",
       "      <th>phone_name</th>\n",
       "      <th>rating_5</th>\n",
       "      <th>number_of_ratings</th>\n",
       "      <th>ram</th>\n",
       "      <th>rom</th>\n",
       "      <th>back_camera</th>\n",
       "      <th>front_camera</th>\n",
       "      <th>battery</th>\n",
       "      <th>processor</th>\n",
       "      <th>price_DZD</th>\n",
       "    </tr>\n",
       "  </thead>\n",
       "  <tbody>\n",
       "    <tr>\n",
       "      <th>488</th>\n",
       "      <td>APPLE iPhone 14 Pro (Gold, 1 TB)</td>\n",
       "      <td>4.7</td>\n",
       "      <td>1302</td>\n",
       "      <td>1 TB ROM</td>\n",
       "      <td>NaN</td>\n",
       "      <td>48MP + 12MP + 12MP</td>\n",
       "      <td>12</td>\n",
       "      <td>A16</td>\n",
       "      <td>1 Year Warranty for Phone and 6 Months Warrant...</td>\n",
       "      <td>244798.56</td>\n",
       "    </tr>\n",
       "    <tr>\n",
       "      <th>493</th>\n",
       "      <td>APPLE iPhone 14 Pro (Space Black, 1 TB)</td>\n",
       "      <td>4.7</td>\n",
       "      <td>1302</td>\n",
       "      <td>1 TB ROM</td>\n",
       "      <td>NaN</td>\n",
       "      <td>48MP + 12MP + 12MP</td>\n",
       "      <td>12</td>\n",
       "      <td>A16</td>\n",
       "      <td>1 Year Warranty for Phone and 6 Months Warrant...</td>\n",
       "      <td>244798.56</td>\n",
       "    </tr>\n",
       "    <tr>\n",
       "      <th>495</th>\n",
       "      <td>APPLE iPhone 14 Pro (Silver, 1 TB)</td>\n",
       "      <td>4.7</td>\n",
       "      <td>1302</td>\n",
       "      <td>1 TB ROM</td>\n",
       "      <td>NaN</td>\n",
       "      <td>48MP + 12MP + 12MP</td>\n",
       "      <td>12</td>\n",
       "      <td>A16</td>\n",
       "      <td>1 Year Warranty for Phone and 6 Months Warrant...</td>\n",
       "      <td>244798.56</td>\n",
       "    </tr>\n",
       "  </tbody>\n",
       "</table>\n",
       "</div>"
      ],
      "text/plain": [
       "                                  phone_name  rating_5 number_of_ratings  \\\n",
       "488         APPLE iPhone 14 Pro (Gold, 1 TB)       4.7              1302   \n",
       "493  APPLE iPhone 14 Pro (Space Black, 1 TB)       4.7              1302   \n",
       "495       APPLE iPhone 14 Pro (Silver, 1 TB)       4.7              1302   \n",
       "\n",
       "          ram  rom         back_camera front_camera battery  \\\n",
       "488  1 TB ROM  NaN  48MP + 12MP + 12MP          12     A16    \n",
       "493  1 TB ROM  NaN  48MP + 12MP + 12MP          12     A16    \n",
       "495  1 TB ROM  NaN  48MP + 12MP + 12MP          12     A16    \n",
       "\n",
       "                                             processor  price_DZD  \n",
       "488  1 Year Warranty for Phone and 6 Months Warrant...  244798.56  \n",
       "493  1 Year Warranty for Phone and 6 Months Warrant...  244798.56  \n",
       "495  1 Year Warranty for Phone and 6 Months Warrant...  244798.56  "
      ]
     },
     "execution_count": 15,
     "metadata": {},
     "output_type": "execute_result"
    }
   ],
   "source": [
    "df[df['price_DZD']== 244798.560000]"
   ]
  },
  {
   "cell_type": "code",
   "execution_count": null,
   "id": "c99ff27a",
   "metadata": {},
   "outputs": [],
   "source": []
  },
  {
   "cell_type": "code",
   "execution_count": 16,
   "id": "71326a30",
   "metadata": {},
   "outputs": [
    {
     "data": {
      "text/html": [
       "<div>\n",
       "<style scoped>\n",
       "    .dataframe tbody tr th:only-of-type {\n",
       "        vertical-align: middle;\n",
       "    }\n",
       "\n",
       "    .dataframe tbody tr th {\n",
       "        vertical-align: top;\n",
       "    }\n",
       "\n",
       "    .dataframe thead th {\n",
       "        text-align: right;\n",
       "    }\n",
       "</style>\n",
       "<table border=\"1\" class=\"dataframe\">\n",
       "  <thead>\n",
       "    <tr style=\"text-align: right;\">\n",
       "      <th></th>\n",
       "      <th>phone_name</th>\n",
       "      <th>rating_5</th>\n",
       "      <th>number_of_ratings</th>\n",
       "      <th>ram</th>\n",
       "      <th>rom</th>\n",
       "      <th>back_camera</th>\n",
       "      <th>front_camera</th>\n",
       "      <th>battery</th>\n",
       "      <th>processor</th>\n",
       "      <th>price_DZD</th>\n",
       "    </tr>\n",
       "  </thead>\n",
       "  <tbody>\n",
       "    <tr>\n",
       "      <th>1413</th>\n",
       "      <td>Nokia Asha 310 (White, 20 MB)</td>\n",
       "      <td>3.9</td>\n",
       "      <td>286</td>\n",
       "      <td>64 MB RAM</td>\n",
       "      <td>20 MB</td>\n",
       "      <td>2MP Rear Camera</td>\n",
       "      <td>NaN</td>\n",
       "      <td>1110</td>\n",
       "      <td>1 Year for Mobile &amp; 6 Months for Accessories</td>\n",
       "      <td>9070.56</td>\n",
       "    </tr>\n",
       "  </tbody>\n",
       "</table>\n",
       "</div>"
      ],
      "text/plain": [
       "                         phone_name  rating_5 number_of_ratings        ram  \\\n",
       "1413  Nokia Asha 310 (White, 20 MB)       3.9               286  64 MB RAM   \n",
       "\n",
       "         rom      back_camera front_camera battery  \\\n",
       "1413  20 MB   2MP Rear Camera          NaN   1110    \n",
       "\n",
       "                                         processor  price_DZD  \n",
       "1413  1 Year for Mobile & 6 Months for Accessories    9070.56  "
      ]
     },
     "execution_count": 16,
     "metadata": {},
     "output_type": "execute_result"
    }
   ],
   "source": [
    "df[df['rom']== '20 MB ']"
   ]
  },
  {
   "cell_type": "code",
   "execution_count": 34,
   "id": "34086ea9",
   "metadata": {},
   "outputs": [
    {
     "name": "stderr",
     "output_type": "stream",
     "text": [
      "/home/hamza/ML-ZOOMCAMP/lib/python3.10/site-packages/seaborn/_oldcore.py:1498: FutureWarning: is_categorical_dtype is deprecated and will be removed in a future version. Use isinstance(dtype, CategoricalDtype) instead\n",
      "  if pd.api.types.is_categorical_dtype(vector):\n",
      "/home/hamza/ML-ZOOMCAMP/lib/python3.10/site-packages/seaborn/_oldcore.py:1498: FutureWarning: is_categorical_dtype is deprecated and will be removed in a future version. Use isinstance(dtype, CategoricalDtype) instead\n",
      "  if pd.api.types.is_categorical_dtype(vector):\n",
      "/home/hamza/ML-ZOOMCAMP/lib/python3.10/site-packages/seaborn/_oldcore.py:1498: FutureWarning: is_categorical_dtype is deprecated and will be removed in a future version. Use isinstance(dtype, CategoricalDtype) instead\n",
      "  if pd.api.types.is_categorical_dtype(vector):\n"
     ]
    },
    {
     "data": {
      "text/plain": [
       "<Axes: xlabel='rating_5', ylabel='count'>"
      ]
     },
     "execution_count": 34,
     "metadata": {},
     "output_type": "execute_result"
    },
    {
     "data": {
      "image/png": "[encoded data removed]",
      "text/plain": [
       "<Figure size 640x480 with 1 Axes>"
      ]
     },
     "metadata": {},
     "output_type": "display_data"
    }
   ],
   "source": [
    "sns.countplot(x='rating_5',data=df,orient=\"horizan\")"
   ]
  },
  {
   "cell_type": "code",
   "execution_count": null,
   "id": "c59993fc",
   "metadata": {},
   "outputs": [],
   "source": []
  },
  {
   "cell_type": "code",
   "execution_count": 334,
   "id": "92a2cfd4",
   "metadata": {},
   "outputs": [
    {
     "name": "stdout",
     "output_type": "stream",
     "text": [
      "Skew: 2.8115650454631766\n",
      "Kurtosis: 9.555123335849915\n"
     ]
    },
    {
     "name": "stderr",
     "output_type": "stream",
     "text": [
      "/tmp/ipykernel_4214/145414745.py:4: FutureWarning: \n",
      "\n",
      "`shade` is now deprecated in favor of `fill`; setting `fill=True`.\n",
      "This will become an error in seaborn v0.14.0; please update your code.\n",
      "\n",
      "  ax = sns.kdeplot(df['price_DZD'],shade=True,color='g')\n",
      "/home/hamza/ML-ZOOMCAMP/lib/python3.10/site-packages/seaborn/_oldcore.py:1498: FutureWarning: is_categorical_dtype is deprecated and will be removed in a future version. Use isinstance(dtype, CategoricalDtype) instead\n",
      "  if pd.api.types.is_categorical_dtype(vector):\n",
      "/home/hamza/ML-ZOOMCAMP/lib/python3.10/site-packages/seaborn/_oldcore.py:1119: FutureWarning: use_inf_as_na option is deprecated and will be removed in a future version. Convert inf values to NaN before operating instead.\n",
      "  with pd.option_context('mode.use_inf_as_na', True):\n"
     ]
    },
    {
     "data": {
      "image/png": "[encoded data removed]",
      "text/plain": [
       "<Figure size 1600x500 with 1 Axes>"
      ]
     },
     "metadata": {},
     "output_type": "display_data"
    }
   ],
   "source": [
    "plt.figure(figsize=(16,5))\n",
    "print(\"Skew: {}\".format(df['price_DZD'].skew()))\n",
    "print(\"Kurtosis: {}\".format(df['price_DZD'].kurtosis()))\n",
    "ax = sns.kdeplot(df['price_DZD'],shade=True,color='g')\n",
    "plt.xticks([i for i in range(0,1200,50)])\n",
    "plt.show()"
   ]
  },
  {
   "cell_type": "code",
   "execution_count": 335,
   "id": "f6315859",
   "metadata": {},
   "outputs": [
    {
     "data": {
      "image/png": "[encoded data removed]",
      "text/plain": [
       "<Figure size 640x480 with 1 Axes>"
      ]
     },
     "metadata": {},
     "output_type": "display_data"
    }
   ],
   "source": [
    "\n",
    "ax = sns.boxplot(df['price_DZD'])\n"
   ]
  },
  {
   "cell_type": "code",
   "execution_count": null,
   "id": "f46ab350",
   "metadata": {},
   "outputs": [],
   "source": []
  },
  {
   "cell_type": "markdown",
   "id": "9745735d",
   "metadata": {},
   "source": [
    "# Modeling"
   ]
  },
  {
   "cell_type": "markdown",
   "id": "755d1901",
   "metadata": {},
   "source": [
    "### Split our data to train and test "
   ]
  },
  {
   "cell_type": "code",
   "execution_count": 16,
   "id": "c342f527",
   "metadata": {},
   "outputs": [],
   "source": [
    "train,test=train_test_split(df,random_state=123,test_size=.2)\n"
   ]
  },
  {
   "cell_type": "code",
   "execution_count": 17,
   "id": "72c9cf85",
   "metadata": {},
   "outputs": [],
   "source": [
    "y_train = train.price_DZD.values\n",
    "y_test = test.price_DZD.values\n",
    "\n",
    "x_train = train\n",
    "x_test = test\n",
    "\n",
    "del x_train['phone_name']\n",
    "del x_test['phone_name']\n"
   ]
  },
  {
   "cell_type": "markdown",
   "id": "82d4ec85",
   "metadata": {},
   "source": [
    " ## Missing value treatment   \n",
    "    \n",
    "    Now we can fill the missing values"
   ]
  },
  {
   "cell_type": "code",
   "execution_count": 18,
   "id": "dd34500b",
   "metadata": {},
   "outputs": [
    {
     "data": {
      "text/plain": [
       "rating_5               0\n",
       "number_of_ratings      0\n",
       "ram                    0\n",
       "rom                  143\n",
       "back_camera            7\n",
       "front_camera         318\n",
       "battery                8\n",
       "processor             47\n",
       "price_DZD              0\n",
       "dtype: int64"
      ]
     },
     "execution_count": 18,
     "metadata": {},
     "output_type": "execute_result"
    }
   ],
   "source": [
    "x_train.isna().sum()"
   ]
  },
  {
   "cell_type": "code",
   "execution_count": 19,
   "id": "43331b64",
   "metadata": {},
   "outputs": [],
   "source": [
    "x_train['rom'].fillna(x_train['rom'].mode()[0],inplace=True)\n",
    "x_train['back_camera'].fillna(x_train['back_camera'].mode()[0],inplace=True)\n",
    "x_train['front_camera'].fillna(x_train['front_camera'].mode()[0],inplace=True)\n",
    "x_train['battery'].fillna(x_train['battery'].mode()[0],inplace=True)\n",
    "x_train['processor'].fillna(x_train['processor'].mode()[0],inplace=True)\n"
   ]
  },
  {
   "cell_type": "code",
   "execution_count": 20,
   "id": "07c68184",
   "metadata": {},
   "outputs": [
    {
     "data": {
      "text/plain": [
       "rating_5             0\n",
       "number_of_ratings    0\n",
       "ram                  0\n",
       "rom                  0\n",
       "back_camera          0\n",
       "front_camera         0\n",
       "battery              0\n",
       "processor            0\n",
       "price_DZD            0\n",
       "dtype: int64"
      ]
     },
     "execution_count": 20,
     "metadata": {},
     "output_type": "execute_result"
    }
   ],
   "source": [
    "x_train.isna().sum()"
   ]
  },
  {
   "cell_type": "code",
   "execution_count": 21,
   "id": "035b24e0",
   "metadata": {},
   "outputs": [
    {
     "data": {
      "text/plain": [
       "rating_5              0\n",
       "number_of_ratings     0\n",
       "ram                   0\n",
       "rom                  31\n",
       "back_camera           2\n",
       "front_camera         83\n",
       "battery               2\n",
       "processor             8\n",
       "price_DZD             0\n",
       "dtype: int64"
      ]
     },
     "execution_count": 21,
     "metadata": {},
     "output_type": "execute_result"
    }
   ],
   "source": [
    "x_test.isna().sum()"
   ]
  },
  {
   "cell_type": "code",
   "execution_count": 22,
   "id": "20fc46e1",
   "metadata": {},
   "outputs": [],
   "source": [
    "x_test['rom'].fillna(x_test['rom'].mode()[0],inplace=True)\n",
    "x_test['back_camera'].fillna(x_test['back_camera'].mode()[0],inplace=True)\n",
    "x_test['front_camera'].fillna(x_test['front_camera'].mode()[0],inplace=True)\n",
    "x_test['battery'].fillna(x_test['battery'].mode()[0],inplace=True)\n",
    "x_test['processor'].fillna(x_test['processor'].mode()[0],inplace=True)\n"
   ]
  },
  {
   "cell_type": "code",
   "execution_count": 24,
   "id": "90ef0522",
   "metadata": {},
   "outputs": [
    {
     "data": {
      "text/plain": [
       "rating_5             0\n",
       "number_of_ratings    0\n",
       "ram                  0\n",
       "rom                  0\n",
       "back_camera          0\n",
       "front_camera         0\n",
       "battery              0\n",
       "processor            0\n",
       "price_DZD            0\n",
       "dtype: int64"
      ]
     },
     "execution_count": 24,
     "metadata": {},
     "output_type": "execute_result"
    }
   ],
   "source": [
    "x_test.isna().sum()"
   ]
  },
  {
   "cell_type": "markdown",
   "id": "300f9b40",
   "metadata": {},
   "source": [
    "### Preparing the data for modelling"
   ]
  },
  {
   "cell_type": "code",
   "execution_count": 25,
   "id": "3526d4d3",
   "metadata": {},
   "outputs": [],
   "source": [
    "x_train = x_train.to_dict(orient='records')\n",
    "\n",
    "dict_v= DictVectorizer(sparse=False)\n",
    "x_train= dict_v.fit_transform(x_train)\n",
    "\n",
    "x_test = x_test.to_dict(orient='records')\n",
    "\n",
    "x_test=dict_v.transform(x_test)"
   ]
  },
  {
   "cell_type": "code",
   "execution_count": 270,
   "id": "59632bfa",
   "metadata": {},
   "outputs": [],
   "source": []
  },
  {
   "cell_type": "code",
   "execution_count": 271,
   "id": "695729e8",
   "metadata": {},
   "outputs": [],
   "source": []
  },
  {
   "cell_type": "code",
   "execution_count": 272,
   "id": "670b232e",
   "metadata": {},
   "outputs": [],
   "source": []
  },
  {
   "cell_type": "markdown",
   "id": "56cfeb1e",
   "metadata": {},
   "source": [
    "## Xgboost for regression"
   ]
  },
  {
   "cell_type": "code",
   "execution_count": 26,
   "id": "001b79e1",
   "metadata": {},
   "outputs": [
    {
     "data": {
      "text/plain": [
       "190.81928787894884"
      ]
     },
     "execution_count": 26,
     "metadata": {},
     "output_type": "execute_result"
    }
   ],
   "source": [
    "XGBR_model=XGBRegressor()\n",
    "XGBR_model.fit(x_train,y_train)\n",
    "XGBR_predict=XGBR_model.predict(x_test)\n",
    "mean_absolute_error(y_test,XGBR_predict)"
   ]
  },
  {
   "cell_type": "markdown",
   "id": "5d1ce10b",
   "metadata": {},
   "source": [
    "## Linear Regression"
   ]
  },
  {
   "cell_type": "code",
   "execution_count": 27,
   "id": "ba73b9f9",
   "metadata": {},
   "outputs": [
    {
     "data": {
      "text/plain": [
       "0.0003017888711937026"
      ]
     },
     "execution_count": 27,
     "metadata": {},
     "output_type": "execute_result"
    }
   ],
   "source": [
    "LR_model=LinearRegression()\n",
    "LR_model.fit(x_train,y_train)\n",
    "LR_predict=LR_model.predict(x_test)\n",
    "mean_absolute_error(y_test,LR_predict)"
   ]
  },
  {
   "cell_type": "markdown",
   "id": "8c10edd7",
   "metadata": {},
   "source": [
    "## Adaboost"
   ]
  },
  {
   "cell_type": "code",
   "execution_count": 28,
   "id": "c12703af",
   "metadata": {},
   "outputs": [
    {
     "data": {
      "text/plain": [
       "2495.352724959001"
      ]
     },
     "execution_count": 28,
     "metadata": {},
     "output_type": "execute_result"
    }
   ],
   "source": [
    "ada_model=AdaBoostRegressor()\n",
    "ada_model.fit(x_train,y_train)\n",
    "ada_predict=ada_model.predict(x_test)\n",
    "mean_absolute_error(y_test,ada_predict)"
   ]
  },
  {
   "cell_type": "markdown",
   "id": "abdd2b99",
   "metadata": {},
   "source": [
    "# the best model"
   ]
  },
  {
   "cell_type": "code",
   "execution_count": 60,
   "id": "9cce8bd3",
   "metadata": {},
   "outputs": [
    {
     "data": {
      "text/plain": [
       "0.0003017888711937026"
      ]
     },
     "execution_count": 60,
     "metadata": {},
     "output_type": "execute_result"
    }
   ],
   "source": [
    "LR_model=LinearRegression()\n",
    "LR_model.fit(x_train,y_train)\n",
    "LR_predict=LR_model.predict(x_test)\n",
    "mean_absolute_error(y_test,LR_predict)"
   ]
  },
  {
   "cell_type": "markdown",
   "id": "eae77b2f",
   "metadata": {},
   "source": [
    "# Saving the model"
   ]
  },
  {
   "cell_type": "code",
   "execution_count": 61,
   "id": "cec8a8cb",
   "metadata": {},
   "outputs": [],
   "source": [
    "with open('LRmodel.bin','wb') as model :\n",
    "    pickle.dump(LR_model,model)"
   ]
  },
  {
   "cell_type": "code",
   "execution_count": 62,
   "id": "a5324fc9",
   "metadata": {},
   "outputs": [],
   "source": [
    "with open('dictv.bin','wb') as dvv :\n",
    "    pickle.dump(dict_v,dvv)"
   ]
  },
  {
   "cell_type": "code",
   "execution_count": null,
   "id": "d7cf5b39",
   "metadata": {},
   "outputs": [],
   "source": []
  },
  {
   "cell_type": "code",
   "execution_count": null,
   "id": "3443b0f0",
   "metadata": {},
   "outputs": [],
   "source": []
  },
  {
   "cell_type": "code",
   "execution_count": null,
   "id": "1b184c7f",
   "metadata": {},
   "outputs": [],
   "source": []
  },
  {
   "cell_type": "code",
   "execution_count": null,
   "id": "6c2d87cf",
   "metadata": {},
   "outputs": [],
   "source": []
  },
  {
   "cell_type": "code",
   "execution_count": null,
   "id": "4c4aaee0",
   "metadata": {},
   "outputs": [],
   "source": []
  },
  {
   "cell_type": "code",
   "execution_count": null,
   "id": "386f4375",
   "metadata": {},
   "outputs": [],
   "source": []
  },
  {
   "cell_type": "code",
   "execution_count": null,
   "id": "b426e2a1",
   "metadata": {},
   "outputs": [],
   "source": []
  },
  {
   "cell_type": "code",
   "execution_count": null,
   "id": "947b6590",
   "metadata": {},
   "outputs": [],
   "source": []
  },
  {
   "cell_type": "code",
   "execution_count": null,
   "id": "f5117923",
   "metadata": {},
   "outputs": [],
   "source": []
  },
  {
   "cell_type": "code",
   "execution_count": null,
   "id": "b1786cd8",
   "metadata": {},
   "outputs": [],
   "source": []
  },
  {
   "cell_type": "code",
   "execution_count": null,
   "id": "67ce28cc",
   "metadata": {},
   "outputs": [],
   "source": []
  }
 ],
 "metadata": {
  "kernelspec": {
   "display_name": "mobile_price_regression-qGvfShKz",
   "language": "python",
   "name": "python3"
  },
  "language_info": {
   "codemirror_mode": {
    "name": "ipython",
    "version": 3
   },
   "file_extension": ".py",
   "mimetype": "text/x-python",
   "name": "python",
   "nbconvert_exporter": "python",
   "pygments_lexer": "ipython3",
   "version": "3.10.9"
  }
 },
 "nbformat": 4,
 "nbformat_minor": 5
}
